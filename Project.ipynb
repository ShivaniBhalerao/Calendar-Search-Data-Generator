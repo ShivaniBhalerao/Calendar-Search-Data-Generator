{
  "cells": [
    {
      "cell_type": "code",
      "execution_count": 11,
      "metadata": {
        "id": "kA-cff9frggY"
      },
      "outputs": [],
      "source": [
        "import pandas as pd\n",
        "import openpyxl\n",
        "import random\n",
        "import math\n",
        "import collections.abc\n",
        "import copy\n",
        "import ast\n",
        "import json\n",
        "from google.colab import files"
      ]
    },
    {
      "cell_type": "code",
      "execution_count": 1,
      "metadata": {
        "id": "Ngvh0EM3rsW6"
      },
      "outputs": [],
      "source": [
        "\n"
      ]
    },
    {
      "cell_type": "code",
      "execution_count": 3,
      "metadata": {
        "colab": {
          "base_uri": "https://localhost:8080/"
        },
        "id": "82UpsG1-tRDB",
        "outputId": "74f073d4-d93f-4e16-c015-b9f848767a0f"
      },
      "outputs": [
        {
          "name": "stdout",
          "output_type": "stream",
          "text": [
            "Cloning into 'IR_Project'...\n",
            "remote: Enumerating objects: 6, done.\u001b[K\n",
            "remote: Counting objects: 100% (6/6), done.\u001b[K\n",
            "remote: Compressing objects: 100% (4/4), done.\u001b[K\n",
            "remote: Total 6 (delta 0), reused 0 (delta 0), pack-reused 0\u001b[K\n",
            "Unpacking objects: 100% (6/6), done.\n"
          ]
        }
      ],
      "source": [
        "!git clone <github_project_url>"
      ]
    },
    {
      "cell_type": "code",
      "execution_count": 4,
      "metadata": {
        "colab": {
          "base_uri": "https://localhost:8080/"
        },
        "id": "76IQaI1rvyF-",
        "outputId": "fbd71526-e654-4e98-880f-703b9981f368"
      },
      "outputs": [
        {
          "name": "stdout",
          "output_type": "stream",
          "text": [
            "IR_Project  sample_data\n"
          ]
        }
      ],
      "source": [
        "!ls"
      ]
    },
    {
      "cell_type": "code",
      "execution_count": 5,
      "metadata": {
        "colab": {
          "base_uri": "https://localhost:8080/"
        },
        "id": "HX3KXejWuJdM",
        "outputId": "913dc291-9fb4-4f49-d6bc-598fd074e7b5"
      },
      "outputs": [
        {
          "name": "stderr",
          "output_type": "stream",
          "text": [
            "/usr/local/lib/python3.7/dist-packages/openpyxl/styles/stylesheet.py:226: UserWarning: Workbook contains no default style, apply openpyxl's default\n",
            "  warn(\"Workbook contains no default style, apply openpyxl's default\")\n"
          ]
        }
      ],
      "source": [
        "calendar_df=pd.read_excel(\"/content/IR_Project/dimdate-QueryResult.xlsx\")"
      ]
    },
    {
      "cell_type": "code",
      "execution_count": 6,
      "metadata": {
        "colab": {
          "base_uri": "https://localhost:8080/"
        },
        "id": "U-DjUy4LuTs8",
        "outputId": "d37dc79b-096b-489d-81d7-c5fc199bdbc3"
      },
      "outputs": [
        {
          "name": "stdout",
          "output_type": "stream",
          "text": [
            "      sasdate  date_key  year  month  day_of_month day_of_week  weekday  \\\n",
            "0       14610     10100  2000    1.0           1.0         Sat      7.0   \n",
            "1       14611     10200  2000    1.0           2.0         Sun      1.0   \n",
            "2       14612     10300  2000    1.0           3.0         Mon      2.0   \n",
            "3       14613     10400  2000    1.0           4.0         Tue      3.0   \n",
            "4       14614     10500  2000    1.0           5.0         Wed      4.0   \n",
            "...       ...       ...   ...    ...           ...         ...      ...   \n",
            "9386    23996     91225  2025    9.0          12.0         Fri      6.0   \n",
            "9387    23997     91325  2025    9.0          13.0         Sat      7.0   \n",
            "9388    23998     91425  2025    9.0          14.0         Sun      1.0   \n",
            "9389    23999     91525  2025    9.0          15.0         Mon      2.0   \n",
            "9390    24000     91625  2025    9.0          16.0         Tue      3.0   \n",
            "\n",
            "      holiday  \n",
            "0     NEWYEAR  \n",
            "1         NaN  \n",
            "2         NaN  \n",
            "3         NaN  \n",
            "4         NaN  \n",
            "...       ...  \n",
            "9386      NaN  \n",
            "9387      NaN  \n",
            "9388      NaN  \n",
            "9389      NaN  \n",
            "9390      NaN  \n",
            "\n",
            "[9391 rows x 8 columns]\n"
          ]
        }
      ],
      "source": [
        "calendar_df=calendar_df.drop(['word_date','date','quarter','yearmonth','week','month_and_year','timezone_offset','timezone','timezone_id'],axis=1)\n",
        "\n",
        "print(calendar_df)"
      ]
    },
    {
      "cell_type": "code",
      "execution_count": 43,
      "metadata": {
        "id": "ZgZn30jnrvt2"
      },
      "outputs": [],
      "source": [
        "#contains all the generated calendars\n",
        "calendar_index_date_key=pd.DataFrame(columns=['user','datekey','sasdate','year','month','day','weekday_num','event'])\n"
      ]
    },
    {
      "cell_type": "code",
      "execution_count": 44,
      "metadata": {
        "colab": {
          "base_uri": "https://localhost:8080/"
        },
        "id": "JbsanyZbQYKp",
        "outputId": "f487474b-8d42-4807-cdb7-767a80ef6fbe"
      },
      "outputs": [
        {
          "name": "stdout",
          "output_type": "stream",
          "text": [
            "    datekey sasdate  year  month   day  weekday_num               event\n",
            "0     10100   14610  2000    1.0   1.0          7.0         ['newyear']\n",
            "1     11700   14626  2000    1.0  17.0          2.0             ['mlk']\n",
            "2     21400   14654  2000    2.0  14.0          2.0      ['valentines']\n",
            "3     22100   14661  2000    2.0  21.0          2.0    ['uspresidents']\n",
            "4     42300   14723  2000    4.0  23.0          1.0          ['easter']\n",
            "..      ...     ...   ...    ...   ...          ...                 ...\n",
            "469   52625   23887  2025    5.0  26.0          2.0        ['memorial']\n",
            "470   61525   23907  2025    6.0  15.0          1.0         ['fathers']\n",
            "471   70125   23923  2025    7.0   1.0          3.0          ['canada']\n",
            "472   70425   23926  2025    7.0   4.0          6.0  ['usindependence']\n",
            "473   90125   23985  2025    9.0   1.0          2.0           ['labor']\n",
            "\n",
            "[474 rows x 7 columns]\n"
          ]
        }
      ],
      "source": [
        "calendar_index_generated_events=pd.DataFrame(columns=['datekey','sasdate','year','month','day','weekday_num','event'])\n",
        "date_list=pd.DataFrame(columns=['datekey','sasdate','year','month','day','weekday_num'])\n",
        "for row in calendar_df.iterrows():\n",
        "    if(isinstance(row[1]['holiday'],str)):\n",
        "        new_row=[row[1]['date_key'],row[1]['sasdate'],row[1]['year'],row[1]['month'],row[1]['day_of_month'],row[1]['weekday'],str(row[1]['holiday'].lower().split())]\n",
        "        calendar_index_generated_events.loc[len(calendar_index_generated_events)]=new_row\n",
        "\n",
        "    date_list.loc[len(date_list)]=[row[1]['date_key'],row[1]['sasdate'],row[1]['year'],row[1]['month'],row[1]['day_of_month'],row[1]['weekday']]\n",
        "print(calendar_index_generated_events)\n"
      ]
    },
    {
      "cell_type": "code",
      "execution_count": 18,
      "metadata": {
        "id": "lEk5QLejlCkl"
      },
      "outputs": [],
      "source": [
        "json_generated_events = calendar_index_generated_events.to_json(orient=\"table\")\n",
        "json_load=json.loads(json_generated_events)\n",
        "json_dump=json.dumps(json_load,indent=4)\n",
        "#utf8=json_generated_events.encode('utf-8')"
      ]
    },
    {
      "cell_type": "code",
      "execution_count": 20,
      "metadata": {
        "colab": {
          "base_uri": "https://localhost:8080/",
          "height": 17
        },
        "id": "BqKS7C7Cl96B",
        "outputId": "50342b35-7a85-4a4d-c549-97848ac3349e"
      },
      "outputs": [
        {
          "data": {
            "application/javascript": "\n    async function download(id, filename, size) {\n      if (!google.colab.kernel.accessAllowed) {\n        return;\n      }\n      const div = document.createElement('div');\n      const label = document.createElement('label');\n      label.textContent = `Downloading \"${filename}\": `;\n      div.appendChild(label);\n      const progress = document.createElement('progress');\n      progress.max = size;\n      div.appendChild(progress);\n      document.body.appendChild(div);\n\n      const buffers = [];\n      let downloaded = 0;\n\n      const channel = await google.colab.kernel.comms.open(id);\n      // Send a message to notify the kernel that we're ready.\n      channel.send({})\n\n      for await (const message of channel.messages) {\n        // Send a message to notify the kernel that we're ready.\n        channel.send({})\n        if (message.buffers) {\n          for (const buffer of message.buffers) {\n            buffers.push(buffer);\n            downloaded += buffer.byteLength;\n            progress.value = downloaded;\n          }\n        }\n      }\n      const blob = new Blob(buffers, {type: 'application/binary'});\n      const a = document.createElement('a');\n      a.href = window.URL.createObjectURL(blob);\n      a.download = filename;\n      div.appendChild(a);\n      a.click();\n      div.remove();\n    }\n  ",
            "text/plain": [
              "<IPython.core.display.Javascript object>"
            ]
          },
          "metadata": {},
          "output_type": "display_data"
        },
        {
          "data": {
            "application/javascript": "download(\"download_33d10701-f511-4c7e-a73c-187d28b5d19d\", \"generated_events.json\", 120777)",
            "text/plain": [
              "<IPython.core.display.Javascript object>"
            ]
          },
          "metadata": {},
          "output_type": "display_data"
        }
      ],
      "source": [
        "with open('generated_events.json','w') as event_file:\n",
        "  event_file.write(json_dump)\n",
        "\n",
        "files.download('generated_events.json')"
      ]
    },
    {
      "cell_type": "code",
      "execution_count": 21,
      "metadata": {
        "colab": {
          "base_uri": "https://localhost:8080/",
          "height": 17
        },
        "id": "hlGWRH9cnHob",
        "outputId": "ba8c4f37-1d41-4ae8-defd-a6e229f44500"
      },
      "outputs": [
        {
          "data": {
            "application/javascript": "\n    async function download(id, filename, size) {\n      if (!google.colab.kernel.accessAllowed) {\n        return;\n      }\n      const div = document.createElement('div');\n      const label = document.createElement('label');\n      label.textContent = `Downloading \"${filename}\": `;\n      div.appendChild(label);\n      const progress = document.createElement('progress');\n      progress.max = size;\n      div.appendChild(progress);\n      document.body.appendChild(div);\n\n      const buffers = [];\n      let downloaded = 0;\n\n      const channel = await google.colab.kernel.comms.open(id);\n      // Send a message to notify the kernel that we're ready.\n      channel.send({})\n\n      for await (const message of channel.messages) {\n        // Send a message to notify the kernel that we're ready.\n        channel.send({})\n        if (message.buffers) {\n          for (const buffer of message.buffers) {\n            buffers.push(buffer);\n            downloaded += buffer.byteLength;\n            progress.value = downloaded;\n          }\n        }\n      }\n      const blob = new Blob(buffers, {type: 'application/binary'});\n      const a = document.createElement('a');\n      a.href = window.URL.createObjectURL(blob);\n      a.download = filename;\n      div.appendChild(a);\n      a.click();\n      div.remove();\n    }\n  ",
            "text/plain": [
              "<IPython.core.display.Javascript object>"
            ]
          },
          "metadata": {},
          "output_type": "display_data"
        },
        {
          "data": {
            "application/javascript": "download(\"download_b6074a6a-a832-4a82-88bf-a69bf80fb286\", \"generated_events_csv.csv\", 120777)",
            "text/plain": [
              "<IPython.core.display.Javascript object>"
            ]
          },
          "metadata": {},
          "output_type": "display_data"
        }
      ],
      "source": [
        "with open('generated_events_csv.csv','w') as event_file:\n",
        "  event_file.write(json_dump)\n",
        "\n",
        "files.download('generated_events_csv.csv')"
      ]
    },
    {
      "cell_type": "code",
      "execution_count": 45,
      "metadata": {
        "colab": {
          "base_uri": "https://localhost:8080/",
          "height": 285
        },
        "id": "Q8qOECB0qs8r",
        "outputId": "e514f45b-baa1-4bcd-ab06-0e305f61c1c8"
      },
      "outputs": [
        {
          "name": "stdout",
          "output_type": "stream",
          "text": [
            "        datekey  year  month   day  weekday_num               event\n",
            "sasdate                                                            \n",
            "14610     10100  2000    1.0   1.0          7.0         ['newyear']\n",
            "14626     11700  2000    1.0  17.0          2.0             ['mlk']\n",
            "14654     21400  2000    2.0  14.0          2.0      ['valentines']\n",
            "14661     22100  2000    2.0  21.0          2.0    ['uspresidents']\n",
            "14723     42300  2000    4.0  23.0          1.0          ['easter']\n",
            "...         ...   ...    ...   ...          ...                 ...\n",
            "23887     52625  2025    5.0  26.0          2.0        ['memorial']\n",
            "23907     61525  2025    6.0  15.0          1.0         ['fathers']\n",
            "23923     70125  2025    7.0   1.0          3.0          ['canada']\n",
            "23926     70425  2025    7.0   4.0          6.0  ['usindependence']\n",
            "23985     90125  2025    9.0   1.0          2.0           ['labor']\n",
            "\n",
            "[474 rows x 6 columns]\n"
          ]
        },
        {
          "data": {
            "application/javascript": "\n    async function download(id, filename, size) {\n      if (!google.colab.kernel.accessAllowed) {\n        return;\n      }\n      const div = document.createElement('div');\n      const label = document.createElement('label');\n      label.textContent = `Downloading \"${filename}\": `;\n      div.appendChild(label);\n      const progress = document.createElement('progress');\n      progress.max = size;\n      div.appendChild(progress);\n      document.body.appendChild(div);\n\n      const buffers = [];\n      let downloaded = 0;\n\n      const channel = await google.colab.kernel.comms.open(id);\n      // Send a message to notify the kernel that we're ready.\n      channel.send({})\n\n      for await (const message of channel.messages) {\n        // Send a message to notify the kernel that we're ready.\n        channel.send({})\n        if (message.buffers) {\n          for (const buffer of message.buffers) {\n            buffers.push(buffer);\n            downloaded += buffer.byteLength;\n            progress.value = downloaded;\n          }\n        }\n      }\n      const blob = new Blob(buffers, {type: 'application/binary'});\n      const a = document.createElement('a');\n      a.href = window.URL.createObjectURL(blob);\n      a.download = filename;\n      div.appendChild(a);\n      a.click();\n      div.remove();\n    }\n  ",
            "text/plain": [
              "<IPython.core.display.Javascript object>"
            ]
          },
          "metadata": {},
          "output_type": "display_data"
        },
        {
          "data": {
            "application/javascript": "download(\"download_849a47ba-a309-4cc0-8df3-fca1a3cef070\", \"generated_events_sasdate.json\", 108470)",
            "text/plain": [
              "<IPython.core.display.Javascript object>"
            ]
          },
          "metadata": {},
          "output_type": "display_data"
        }
      ],
      "source": [
        "calendar_index_generated_events=calendar_index_generated_events.set_index('sasdate')\n",
        "json_generated_events = calendar_index_generated_events.to_json(orient=\"table\")\n",
        "json_load=json.loads(json_generated_events)\n",
        "json_dump=json.dumps(json_load,indent=4)\n",
        "\n",
        "print(calendar_index_generated_events)\n",
        "#del json_load['index']\n",
        "json_dump=json.dumps(json_load,indent=4)\n",
        "with open('generated_events_sasdate.json','w') as event_file:\n",
        "  event_file.write(json_dump)\n",
        "\n",
        "files.download('generated_events_sasdate.json')"
      ]
    },
    {
      "cell_type": "code",
      "execution_count": 67,
      "metadata": {
        "colab": {
          "base_uri": "https://localhost:8080/"
        },
        "id": "b3npJsHXLxVR",
        "outputId": "d8edc46c-ed94-4160-e8fa-de47afbadcfb"
      },
      "outputs": [
        {
          "name": "stdout",
          "output_type": "stream",
          "text": [
            "sasdate\n",
            "14610           ['newyear']\n",
            "14626               ['mlk']\n",
            "14654        ['valentines']\n",
            "14661      ['uspresidents']\n",
            "14723            ['easter']\n",
            "                ...        \n",
            "23887          ['memorial']\n",
            "23907           ['fathers']\n",
            "23923            ['canada']\n",
            "23926    ['usindependence']\n",
            "23985             ['labor']\n",
            "Name: event, Length: 474, dtype: object\n"
          ]
        }
      ],
      "source": [
        "print(calendar_index_generated_events['event'])"
      ]
    },
    {
      "cell_type": "markdown",
      "metadata": {
        "id": "xxps9lM-Muz_"
      },
      "source": [
        "      #for generated_event in raw_calendar.iterrows():\n",
        "      #new_temp_row=[generated_event[1]['datekey'],generated_event[1]['sasdate'],generated_event[1]['year'],generated_event[1]['month'],generated_event[1]['day'],generated_event[1]['weekday_num'],str(generated_event[1]['event'])]\n",
        "      #calendar_index_date_key.loc[len_calendar_index_date_key]=new_temp_row\n",
        "      #len_calendar_index_date_key=len_calendar_index_date_key+1\n",
        "      #print(tuple([user,generated_event[1]['datekey']]))"
      ]
    },
    {
      "cell_type": "code",
      "execution_count": 69,
      "metadata": {
        "colab": {
          "base_uri": "https://localhost:8080/",
          "height": 17
        },
        "id": "KyWD2Djov6jF",
        "outputId": "90cfd189-4102-493f-9755-9c173fc97f2f"
      },
      "outputs": [
        {
          "data": {
            "application/javascript": "\n    async function download(id, filename, size) {\n      if (!google.colab.kernel.accessAllowed) {\n        return;\n      }\n      const div = document.createElement('div');\n      const label = document.createElement('label');\n      label.textContent = `Downloading \"${filename}\": `;\n      div.appendChild(label);\n      const progress = document.createElement('progress');\n      progress.max = size;\n      div.appendChild(progress);\n      document.body.appendChild(div);\n\n      const buffers = [];\n      let downloaded = 0;\n\n      const channel = await google.colab.kernel.comms.open(id);\n      // Send a message to notify the kernel that we're ready.\n      channel.send({})\n\n      for await (const message of channel.messages) {\n        // Send a message to notify the kernel that we're ready.\n        channel.send({})\n        if (message.buffers) {\n          for (const buffer of message.buffers) {\n            buffers.push(buffer);\n            downloaded += buffer.byteLength;\n            progress.value = downloaded;\n          }\n        }\n      }\n      const blob = new Blob(buffers, {type: 'application/binary'});\n      const a = document.createElement('a');\n      a.href = window.URL.createObjectURL(blob);\n      a.download = filename;\n      div.appendChild(a);\n      a.click();\n      div.remove();\n    }\n  ",
            "text/plain": [
              "<IPython.core.display.Javascript object>"
            ]
          },
          "metadata": {},
          "output_type": "display_data"
        },
        {
          "data": {
            "application/javascript": "download(\"download_e8a899dd-1fec-4d3a-9e60-6c3fb00b3d64\", \"user_event_91000.json\", 3262931)",
            "text/plain": [
              "<IPython.core.display.Javascript object>"
            ]
          },
          "metadata": {},
          "output_type": "display_data"
        },
        {
          "data": {
            "application/javascript": "\n    async function download(id, filename, size) {\n      if (!google.colab.kernel.accessAllowed) {\n        return;\n      }\n      const div = document.createElement('div');\n      const label = document.createElement('label');\n      label.textContent = `Downloading \"${filename}\": `;\n      div.appendChild(label);\n      const progress = document.createElement('progress');\n      progress.max = size;\n      div.appendChild(progress);\n      document.body.appendChild(div);\n\n      const buffers = [];\n      let downloaded = 0;\n\n      const channel = await google.colab.kernel.comms.open(id);\n      // Send a message to notify the kernel that we're ready.\n      channel.send({})\n\n      for await (const message of channel.messages) {\n        // Send a message to notify the kernel that we're ready.\n        channel.send({})\n        if (message.buffers) {\n          for (const buffer of message.buffers) {\n            buffers.push(buffer);\n            downloaded += buffer.byteLength;\n            progress.value = downloaded;\n          }\n        }\n      }\n      const blob = new Blob(buffers, {type: 'application/binary'});\n      const a = document.createElement('a');\n      a.href = window.URL.createObjectURL(blob);\n      a.download = filename;\n      div.appendChild(a);\n      a.click();\n      div.remove();\n    }\n  ",
            "text/plain": [
              "<IPython.core.display.Javascript object>"
            ]
          },
          "metadata": {},
          "output_type": "display_data"
        },
        {
          "data": {
            "application/javascript": "download(\"download_cb8022a5-0a47-45f2-8146-c896f305d245\", \"user_event_92000.json\", 3261773)",
            "text/plain": [
              "<IPython.core.display.Javascript object>"
            ]
          },
          "metadata": {},
          "output_type": "display_data"
        },
        {
          "data": {
            "application/javascript": "\n    async function download(id, filename, size) {\n      if (!google.colab.kernel.accessAllowed) {\n        return;\n      }\n      const div = document.createElement('div');\n      const label = document.createElement('label');\n      label.textContent = `Downloading \"${filename}\": `;\n      div.appendChild(label);\n      const progress = document.createElement('progress');\n      progress.max = size;\n      div.appendChild(progress);\n      document.body.appendChild(div);\n\n      const buffers = [];\n      let downloaded = 0;\n\n      const channel = await google.colab.kernel.comms.open(id);\n      // Send a message to notify the kernel that we're ready.\n      channel.send({})\n\n      for await (const message of channel.messages) {\n        // Send a message to notify the kernel that we're ready.\n        channel.send({})\n        if (message.buffers) {\n          for (const buffer of message.buffers) {\n            buffers.push(buffer);\n            downloaded += buffer.byteLength;\n            progress.value = downloaded;\n          }\n        }\n      }\n      const blob = new Blob(buffers, {type: 'application/binary'});\n      const a = document.createElement('a');\n      a.href = window.URL.createObjectURL(blob);\n      a.download = filename;\n      div.appendChild(a);\n      a.click();\n      div.remove();\n    }\n  ",
            "text/plain": [
              "<IPython.core.display.Javascript object>"
            ]
          },
          "metadata": {},
          "output_type": "display_data"
        },
        {
          "data": {
            "application/javascript": "download(\"download_24b56790-a7a6-4607-904f-60d940ac812c\", \"user_event_93000.json\", 3262728)",
            "text/plain": [
              "<IPython.core.display.Javascript object>"
            ]
          },
          "metadata": {},
          "output_type": "display_data"
        },
        {
          "data": {
            "application/javascript": "\n    async function download(id, filename, size) {\n      if (!google.colab.kernel.accessAllowed) {\n        return;\n      }\n      const div = document.createElement('div');\n      const label = document.createElement('label');\n      label.textContent = `Downloading \"${filename}\": `;\n      div.appendChild(label);\n      const progress = document.createElement('progress');\n      progress.max = size;\n      div.appendChild(progress);\n      document.body.appendChild(div);\n\n      const buffers = [];\n      let downloaded = 0;\n\n      const channel = await google.colab.kernel.comms.open(id);\n      // Send a message to notify the kernel that we're ready.\n      channel.send({})\n\n      for await (const message of channel.messages) {\n        // Send a message to notify the kernel that we're ready.\n        channel.send({})\n        if (message.buffers) {\n          for (const buffer of message.buffers) {\n            buffers.push(buffer);\n            downloaded += buffer.byteLength;\n            progress.value = downloaded;\n          }\n        }\n      }\n      const blob = new Blob(buffers, {type: 'application/binary'});\n      const a = document.createElement('a');\n      a.href = window.URL.createObjectURL(blob);\n      a.download = filename;\n      div.appendChild(a);\n      a.click();\n      div.remove();\n    }\n  ",
            "text/plain": [
              "<IPython.core.display.Javascript object>"
            ]
          },
          "metadata": {},
          "output_type": "display_data"
        },
        {
          "data": {
            "application/javascript": "download(\"download_445c67ae-4d9a-4922-922c-2b0be5ca23bc\", \"user_event_94000.json\", 3263059)",
            "text/plain": [
              "<IPython.core.display.Javascript object>"
            ]
          },
          "metadata": {},
          "output_type": "display_data"
        },
        {
          "data": {
            "application/javascript": "\n    async function download(id, filename, size) {\n      if (!google.colab.kernel.accessAllowed) {\n        return;\n      }\n      const div = document.createElement('div');\n      const label = document.createElement('label');\n      label.textContent = `Downloading \"${filename}\": `;\n      div.appendChild(label);\n      const progress = document.createElement('progress');\n      progress.max = size;\n      div.appendChild(progress);\n      document.body.appendChild(div);\n\n      const buffers = [];\n      let downloaded = 0;\n\n      const channel = await google.colab.kernel.comms.open(id);\n      // Send a message to notify the kernel that we're ready.\n      channel.send({})\n\n      for await (const message of channel.messages) {\n        // Send a message to notify the kernel that we're ready.\n        channel.send({})\n        if (message.buffers) {\n          for (const buffer of message.buffers) {\n            buffers.push(buffer);\n            downloaded += buffer.byteLength;\n            progress.value = downloaded;\n          }\n        }\n      }\n      const blob = new Blob(buffers, {type: 'application/binary'});\n      const a = document.createElement('a');\n      a.href = window.URL.createObjectURL(blob);\n      a.download = filename;\n      div.appendChild(a);\n      a.click();\n      div.remove();\n    }\n  ",
            "text/plain": [
              "<IPython.core.display.Javascript object>"
            ]
          },
          "metadata": {},
          "output_type": "display_data"
        },
        {
          "data": {
            "application/javascript": "download(\"download_fd76167f-1585-400d-9749-c48e3889e3c0\", \"user_event_95000.json\", 3260160)",
            "text/plain": [
              "<IPython.core.display.Javascript object>"
            ]
          },
          "metadata": {},
          "output_type": "display_data"
        },
        {
          "data": {
            "application/javascript": "\n    async function download(id, filename, size) {\n      if (!google.colab.kernel.accessAllowed) {\n        return;\n      }\n      const div = document.createElement('div');\n      const label = document.createElement('label');\n      label.textContent = `Downloading \"${filename}\": `;\n      div.appendChild(label);\n      const progress = document.createElement('progress');\n      progress.max = size;\n      div.appendChild(progress);\n      document.body.appendChild(div);\n\n      const buffers = [];\n      let downloaded = 0;\n\n      const channel = await google.colab.kernel.comms.open(id);\n      // Send a message to notify the kernel that we're ready.\n      channel.send({})\n\n      for await (const message of channel.messages) {\n        // Send a message to notify the kernel that we're ready.\n        channel.send({})\n        if (message.buffers) {\n          for (const buffer of message.buffers) {\n            buffers.push(buffer);\n            downloaded += buffer.byteLength;\n            progress.value = downloaded;\n          }\n        }\n      }\n      const blob = new Blob(buffers, {type: 'application/binary'});\n      const a = document.createElement('a');\n      a.href = window.URL.createObjectURL(blob);\n      a.download = filename;\n      div.appendChild(a);\n      a.click();\n      div.remove();\n    }\n  ",
            "text/plain": [
              "<IPython.core.display.Javascript object>"
            ]
          },
          "metadata": {},
          "output_type": "display_data"
        },
        {
          "data": {
            "application/javascript": "download(\"download_90355ac6-460a-47d8-8c26-a6059a0a0e65\", \"user_event_96000.json\", 3262834)",
            "text/plain": [
              "<IPython.core.display.Javascript object>"
            ]
          },
          "metadata": {},
          "output_type": "display_data"
        },
        {
          "data": {
            "application/javascript": "\n    async function download(id, filename, size) {\n      if (!google.colab.kernel.accessAllowed) {\n        return;\n      }\n      const div = document.createElement('div');\n      const label = document.createElement('label');\n      label.textContent = `Downloading \"${filename}\": `;\n      div.appendChild(label);\n      const progress = document.createElement('progress');\n      progress.max = size;\n      div.appendChild(progress);\n      document.body.appendChild(div);\n\n      const buffers = [];\n      let downloaded = 0;\n\n      const channel = await google.colab.kernel.comms.open(id);\n      // Send a message to notify the kernel that we're ready.\n      channel.send({})\n\n      for await (const message of channel.messages) {\n        // Send a message to notify the kernel that we're ready.\n        channel.send({})\n        if (message.buffers) {\n          for (const buffer of message.buffers) {\n            buffers.push(buffer);\n            downloaded += buffer.byteLength;\n            progress.value = downloaded;\n          }\n        }\n      }\n      const blob = new Blob(buffers, {type: 'application/binary'});\n      const a = document.createElement('a');\n      a.href = window.URL.createObjectURL(blob);\n      a.download = filename;\n      div.appendChild(a);\n      a.click();\n      div.remove();\n    }\n  ",
            "text/plain": [
              "<IPython.core.display.Javascript object>"
            ]
          },
          "metadata": {},
          "output_type": "display_data"
        },
        {
          "data": {
            "application/javascript": "download(\"download_4915d33f-e622-4306-8891-aa149638eef0\", \"user_event_97000.json\", 3264405)",
            "text/plain": [
              "<IPython.core.display.Javascript object>"
            ]
          },
          "metadata": {},
          "output_type": "display_data"
        },
        {
          "data": {
            "application/javascript": "\n    async function download(id, filename, size) {\n      if (!google.colab.kernel.accessAllowed) {\n        return;\n      }\n      const div = document.createElement('div');\n      const label = document.createElement('label');\n      label.textContent = `Downloading \"${filename}\": `;\n      div.appendChild(label);\n      const progress = document.createElement('progress');\n      progress.max = size;\n      div.appendChild(progress);\n      document.body.appendChild(div);\n\n      const buffers = [];\n      let downloaded = 0;\n\n      const channel = await google.colab.kernel.comms.open(id);\n      // Send a message to notify the kernel that we're ready.\n      channel.send({})\n\n      for await (const message of channel.messages) {\n        // Send a message to notify the kernel that we're ready.\n        channel.send({})\n        if (message.buffers) {\n          for (const buffer of message.buffers) {\n            buffers.push(buffer);\n            downloaded += buffer.byteLength;\n            progress.value = downloaded;\n          }\n        }\n      }\n      const blob = new Blob(buffers, {type: 'application/binary'});\n      const a = document.createElement('a');\n      a.href = window.URL.createObjectURL(blob);\n      a.download = filename;\n      div.appendChild(a);\n      a.click();\n      div.remove();\n    }\n  ",
            "text/plain": [
              "<IPython.core.display.Javascript object>"
            ]
          },
          "metadata": {},
          "output_type": "display_data"
        },
        {
          "data": {
            "application/javascript": "download(\"download_d7b14d9f-f3a2-4853-8650-a3de0fcd646c\", \"user_event_98000.json\", 3262290)",
            "text/plain": [
              "<IPython.core.display.Javascript object>"
            ]
          },
          "metadata": {},
          "output_type": "display_data"
        },
        {
          "data": {
            "application/javascript": "\n    async function download(id, filename, size) {\n      if (!google.colab.kernel.accessAllowed) {\n        return;\n      }\n      const div = document.createElement('div');\n      const label = document.createElement('label');\n      label.textContent = `Downloading \"${filename}\": `;\n      div.appendChild(label);\n      const progress = document.createElement('progress');\n      progress.max = size;\n      div.appendChild(progress);\n      document.body.appendChild(div);\n\n      const buffers = [];\n      let downloaded = 0;\n\n      const channel = await google.colab.kernel.comms.open(id);\n      // Send a message to notify the kernel that we're ready.\n      channel.send({})\n\n      for await (const message of channel.messages) {\n        // Send a message to notify the kernel that we're ready.\n        channel.send({})\n        if (message.buffers) {\n          for (const buffer of message.buffers) {\n            buffers.push(buffer);\n            downloaded += buffer.byteLength;\n            progress.value = downloaded;\n          }\n        }\n      }\n      const blob = new Blob(buffers, {type: 'application/binary'});\n      const a = document.createElement('a');\n      a.href = window.URL.createObjectURL(blob);\n      a.download = filename;\n      div.appendChild(a);\n      a.click();\n      div.remove();\n    }\n  ",
            "text/plain": [
              "<IPython.core.display.Javascript object>"
            ]
          },
          "metadata": {},
          "output_type": "display_data"
        },
        {
          "data": {
            "application/javascript": "download(\"download_3cb14df2-2562-4664-b429-a8ef649cef6c\", \"user_event_99000.json\", 3263389)",
            "text/plain": [
              "<IPython.core.display.Javascript object>"
            ]
          },
          "metadata": {},
          "output_type": "display_data"
        },
        {
          "data": {
            "application/javascript": "\n    async function download(id, filename, size) {\n      if (!google.colab.kernel.accessAllowed) {\n        return;\n      }\n      const div = document.createElement('div');\n      const label = document.createElement('label');\n      label.textContent = `Downloading \"${filename}\": `;\n      div.appendChild(label);\n      const progress = document.createElement('progress');\n      progress.max = size;\n      div.appendChild(progress);\n      document.body.appendChild(div);\n\n      const buffers = [];\n      let downloaded = 0;\n\n      const channel = await google.colab.kernel.comms.open(id);\n      // Send a message to notify the kernel that we're ready.\n      channel.send({})\n\n      for await (const message of channel.messages) {\n        // Send a message to notify the kernel that we're ready.\n        channel.send({})\n        if (message.buffers) {\n          for (const buffer of message.buffers) {\n            buffers.push(buffer);\n            downloaded += buffer.byteLength;\n            progress.value = downloaded;\n          }\n        }\n      }\n      const blob = new Blob(buffers, {type: 'application/binary'});\n      const a = document.createElement('a');\n      a.href = window.URL.createObjectURL(blob);\n      a.download = filename;\n      div.appendChild(a);\n      a.click();\n      div.remove();\n    }\n  ",
            "text/plain": [
              "<IPython.core.display.Javascript object>"
            ]
          },
          "metadata": {},
          "output_type": "display_data"
        },
        {
          "data": {
            "application/javascript": "download(\"download_e06569ed-ee8b-47d9-bce8-2b0db815705f\", \"user_event_100000.json\", 3263238)",
            "text/plain": [
              "<IPython.core.display.Javascript object>"
            ]
          },
          "metadata": {},
          "output_type": "display_data"
        }
      ],
      "source": [
        "date=0\n",
        "events = ['meeting','Meeting','meet','Birthday','birthday','bday','anivarsary','aniversary','Annivarsary','anniversary',\n",
        "         'wedding anniversary','meetings','party','event','birthday party']\n",
        "people=['tom','tim','jim','tina','shivani bhalerao','neel','saloni','mummy','pappa','mom','dad','mom and dad','uncle','Joe','Joey','rhea',\n",
        "       'john','johny']\n",
        "festivals=['Ganesh Chaturthi','Diwali','Divali','holi','ShivaJayanti','pola','Gudhi Padwa','Thanks giving','halloween','Haloween']\n",
        "calendar_index_date_key=pd.DataFrame(columns=['user','datekey','sasdate','year','month','day','weekday_num','event'])\n",
        "len_calendar_index_date_key=0\n",
        "\n",
        "for i in range(90001,100001):\n",
        "\n",
        "    user='user_'+str(i)\n",
        "    for person_and_event in range(0,10):\n",
        "        random_event=events[random.randrange(len(events))]\n",
        "        random_subject=people[random.randrange(len(people))]\n",
        "        event_people_combination=[random_event+' '+random_subject,random_subject+' '+random_event]\n",
        "        event_people=random.choice(event_people_combination)\n",
        "        \n",
        "        random_num=random.randint(0,len(date_list)-1)\n",
        "        random_date=date_list.iloc[random_num]\n",
        "        random_datekey=random_date['datekey']\n",
        "        \n",
        "        random_sasdate=random_date['sasdate'].astype(str).astype(float).astype(int)\n",
        "        \n",
        "        #print(type(random_sasdate))\n",
        "        #print(calendar_index_date_key['sasdate'].astype(str).astype(int),' ',random_sasdate,' ',random_sasdate == calendar_index_date_key['sasdate'])\n",
        "        #print(' s ',calendar_index_date_key['datekey'],' s ',type(calendar_index_date_key['datekey']),' s ',random_date['datekey'],' s ',type(random_date['datekey']))\n",
        "        prev_row=calendar_index_date_key[(calendar_index_date_key['user']==user) & (calendar_index_date_key['sasdate'].astype(str).astype(float).astype(int)==random_sasdate)]\n",
        "        #print(user,' ',random_sasdate)\n",
        "        #print(random_datekey,' ',calendar_index_date_key['datekey'].reset_index(drop=True).equals(random_datekey.reset_index(drop=True)))\n",
        "        if(len(prev_row)>0):\n",
        "            prev_event_str=prev_row['event'].tolist()\n",
        "            prev_event_str=prev_event_str[0]\n",
        "            prev_event=ast.literal_eval(prev_event_str)\n",
        "            prev_event.append(event_people)\n",
        "            calendar_index_date_key.loc[((calendar_index_date_key['user']==user) & (calendar_index_date_key['sasdate'].astype(str).astype(float).astype(int)==random_sasdate)),'event']=str(prev_event)\n",
        "\n",
        "        else:\n",
        "            prev_event=list([])\n",
        "            prev_event.append(event_people)\n",
        "            new_event_row=[user,random_date['datekey'],random_date['sasdate'],random_date['year'],random_date['month'],random_date['day'],random_date['weekday_num'],str(prev_event)]\n",
        "            #calendar_index_date_key.loc[((calendar_index_date_key['user']==user) & (calendar_index_date_key['sasdate'].astype(str).astype(int)==random_sasdate)),'event']=str(prev_event)\n",
        "            calendar_index_date_key.loc[len_calendar_index_date_key]=new_event_row\n",
        "            len_calendar_index_date_key=len_calendar_index_date_key+1\n",
        "            #print(calendar_index_date_key[calendar_index_date_key['sasdate']==random_sasdate])\n",
        "        #print(random_date,' ',random_event,' ',random_subject,' ',user,' ',tuple([user,random_date['datekey']]))\n",
        "        \n",
        "    for festival in range(0,2):\n",
        "        random_festival=festivals[random.randrange(len(festivals))]\n",
        "        \n",
        "        random_num=random.randint(0,len(date_list)-1)\n",
        "        random_date=date_list.iloc[random_num]\n",
        "        random_datekey=random_date['datekey']\n",
        "        \n",
        "        random_sasdate=random_date['sasdate'].astype(str).astype(float).astype(int)\n",
        "        \n",
        "        prev_row=calendar_index_date_key[(calendar_index_date_key['user']==user) & (calendar_index_date_key['sasdate'].astype(str).astype(float).astype(int)==random_sasdate)]\n",
        "\n",
        "        #print(user,' ',random_sasdate)\n",
        "\n",
        "        if(len(prev_row)>0):\n",
        "            prev_event_str=prev_row['event'].tolist()\n",
        "            #print('before',prev_event_str)\n",
        "            prev_event_str=prev_event_str[0]\n",
        "            prev_event=ast.literal_eval(prev_event_str)\n",
        "            prev_event.append(random_festival)\n",
        "            calendar_index_date_key.loc[((calendar_index_date_key['user']==user) & (calendar_index_date_key['sasdate'].astype(str).astype(float).astype(int)==random_sasdate)),'event']=str(prev_event)\n",
        "    \n",
        "        else:\n",
        "            prev_event=list([])\n",
        "            prev_event.append(random_festival)\n",
        "            new_event_row=[user,random_date['datekey'],random_date['sasdate'],random_date['year'],random_date['month'],random_date['day'],random_date['weekday_num'],str(prev_event)]\n",
        "            #calendar_index_date_key.loc[((calendar_index_date_key['user']==user) & (calendar_index_date_key['sasdate'].astype(str).astype(int)==random_sasdate)),'event']=str(prev_event)\n",
        "            calendar_index_date_key.loc[len_calendar_index_date_key]=new_event_row\n",
        "            len_calendar_index_date_key=len_calendar_index_date_key+1\n",
        "            \n",
        "    if(i%1000==0):\n",
        "      calendar_index_date_key=calendar_index_date_key.set_index(['user','sasdate'])\n",
        "      json_user_event = calendar_index_date_key.to_json(orient=\"table\")\n",
        "      json_load=json.loads(json_user_event)\n",
        "      json_dump=json.dumps(json_load,indent=4)\n",
        "      file_name='user_event_'+str(i)+'.json'\n",
        "      with open(file_name,'w') as event_file:\n",
        "        event_file.write(json_dump)\n",
        "        files.download(file_name)\n",
        "\n",
        "      calendar_index_date_key=pd.DataFrame(columns=['user','datekey','sasdate','year','month','day','weekday_num','event'])\n",
        "      len_calendar_index_date_key=0\n"
      ]
    },
    {
      "cell_type": "code",
      "execution_count": null,
      "metadata": {
        "id": "E0DThQLPzWDr"
      },
      "outputs": [],
      "source": []
    },
    {
      "cell_type": "code",
      "execution_count": null,
      "metadata": {
        "id": "i4HhDt4ZwCX_"
      },
      "outputs": [],
      "source": [
        "prev_row=calendar_index_date_key[((calendar_index_date_key['user']=='user_0') & (calendar_index_date_key['datekey']==111017))]\n",
        "prev_event_str=prev_row['event'].tolist()\n",
        "prev_event_str=prev_event_str[0]\n",
        "prev_event=ast.literal_eval(prev_event_str)\n",
        "prev_event.append('abc')\n",
        "\n",
        "print(prev_event)\n",
        "calendar_index_date_key.loc[((calendar_index_date_key['user']=='user_0') & (calendar_index_date_key['datekey']==10100)),'event']=str(prev_event)\n",
        "#calendar_index_date_key.loc[((calendar_index_date_key['user']=='user_0') & (calendar_index_date_key['datekey']==10100)),'event']"
      ]
    },
    {
      "cell_type": "code",
      "execution_count": 34,
      "metadata": {
        "colab": {
          "base_uri": "https://localhost:8080/"
        },
        "id": "JcHjlaFUwOZa",
        "outputId": "5b3b5fc2-e519-43ec-f943-eed65a7ec98f"
      },
      "outputs": [
        {
          "name": "stdout",
          "output_type": "stream",
          "text": [
            "           user  datekey  sasdate    year  month   day  weekday_num  \\\n",
            "1013    user_84  72225.0  23944.0  2025.0    7.0  22.0          3.0   \n",
            "10043  user_837  72225.0  23944.0  2025.0    7.0  22.0          3.0   \n",
            "11993  user_999  72225.0  23944.0  2025.0    7.0  22.0          3.0   \n",
            "\n",
            "                  event  \n",
            "1013   ['meetings tim']  \n",
            "10043   ['tim Meeting']  \n",
            "11993      ['Haloween']  \n"
          ]
        }
      ],
      "source": [
        "print(calendar_index_date_key[calendar_index_date_key['sasdate'].astype(str).astype(float).astype(int)==23944])"
      ]
    },
    {
      "cell_type": "code",
      "execution_count": 70,
      "metadata": {
        "id": "Q3dxlUwjICWT"
      },
      "outputs": [],
      "source": [
        "for row in calendar_index_date_key.iterrows():\n",
        "\n",
        "  print(row[1]['user'])"
      ]
    },
    {
      "cell_type": "code",
      "execution_count": null,
      "metadata": {
        "id": "1BL8w3Rg1HMm"
      },
      "outputs": [],
      "source": []
    },
    {
      "cell_type": "code",
      "execution_count": 112,
      "metadata": {
        "id": "4ckh7MOH2J54"
      },
      "outputs": [],
      "source": [
        "json_file=open('user_event_1000.json')\n",
        "dict_json=json.load(json_file)\n",
        "#test_json=pd.read_json('user_event_1000.json',lines=True,orient='Table')"
      ]
    },
    {
      "cell_type": "code",
      "execution_count": 113,
      "metadata": {
        "colab": {
          "base_uri": "https://localhost:8080/"
        },
        "id": "z9rU9GOa56dF",
        "outputId": "adf6e683-b775-437f-ba63-a9f03f1b2607"
      },
      "outputs": [
        {
          "name": "stdout",
          "output_type": "stream",
          "text": [
            "{'user': 'user_1', 'sasdate': 22497.0, 'datekey': 80521.0, 'year': 2021.0, 'month': 8.0, 'day': 5.0, 'weekday_num': 5.0, 'event': \"['tim event']\"}\n"
          ]
        }
      ],
      "source": [
        "print(dict_json['data'][0])\n",
        "read_json_df=pd.DataFrame(dict_json['data'])\n"
      ]
    },
    {
      "cell_type": "code",
      "execution_count": 114,
      "metadata": {
        "id": "rH21ky4m8QAG"
      },
      "outputs": [],
      "source": [
        "\n",
        "for i in range(2000,100001,1000):\n",
        "  file_name='user_event_'+str(i)+'.json'\n",
        "  json_file=open(file_name)\n",
        "  dict_json=json.load(json_file)\n",
        "  #print(i)\n",
        "  read_json_df=read_json_df.append(dict_json['data'],ignore_index=True)\n"
      ]
    },
    {
      "cell_type": "code",
      "execution_count": 116,
      "metadata": {
        "id": "GoG_GyIx-WvU"
      },
      "outputs": [],
      "source": [
        "read_json_df=read_json_df.set_index(['user','sasdate'])"
      ]
    },
    {
      "cell_type": "code",
      "execution_count": 117,
      "metadata": {
        "colab": {
          "base_uri": "https://localhost:8080/",
          "height": 455
        },
        "id": "aqxh6m_P_5l1",
        "outputId": "a1b3aa0e-6e19-41df-f0b1-53649e1dd623"
      },
      "outputs": [
        {
          "data": {
            "text/html": [
              "\n",
              "  <div id=\"df-8c3c3d79-cfe3-44fb-be15-b4428eaead4e\">\n",
              "    <div class=\"colab-df-container\">\n",
              "      <div>\n",
              "<style scoped>\n",
              "    .dataframe tbody tr th:only-of-type {\n",
              "        vertical-align: middle;\n",
              "    }\n",
              "\n",
              "    .dataframe tbody tr th {\n",
              "        vertical-align: top;\n",
              "    }\n",
              "\n",
              "    .dataframe thead th {\n",
              "        text-align: right;\n",
              "    }\n",
              "</style>\n",
              "<table border=\"1\" class=\"dataframe\">\n",
              "  <thead>\n",
              "    <tr style=\"text-align: right;\">\n",
              "      <th></th>\n",
              "      <th></th>\n",
              "      <th>datekey</th>\n",
              "      <th>year</th>\n",
              "      <th>month</th>\n",
              "      <th>day</th>\n",
              "      <th>weekday_num</th>\n",
              "      <th>event</th>\n",
              "    </tr>\n",
              "    <tr>\n",
              "      <th>user</th>\n",
              "      <th>sasdate</th>\n",
              "      <th></th>\n",
              "      <th></th>\n",
              "      <th></th>\n",
              "      <th></th>\n",
              "      <th></th>\n",
              "      <th></th>\n",
              "    </tr>\n",
              "  </thead>\n",
              "  <tbody>\n",
              "    <tr>\n",
              "      <th rowspan=\"5\" valign=\"top\">user_1</th>\n",
              "      <th>22497.0</th>\n",
              "      <td>80521.0</td>\n",
              "      <td>2021.0</td>\n",
              "      <td>8.0</td>\n",
              "      <td>5.0</td>\n",
              "      <td>5.0</td>\n",
              "      <td>['tim event']</td>\n",
              "    </tr>\n",
              "    <tr>\n",
              "      <th>16109.0</th>\n",
              "      <td>20804.0</td>\n",
              "      <td>2004.0</td>\n",
              "      <td>2.0</td>\n",
              "      <td>8.0</td>\n",
              "      <td>1.0</td>\n",
              "      <td>['Joey birthday party']</td>\n",
              "    </tr>\n",
              "    <tr>\n",
              "      <th>17968.0</th>\n",
              "      <td>31209.0</td>\n",
              "      <td>2009.0</td>\n",
              "      <td>3.0</td>\n",
              "      <td>12.0</td>\n",
              "      <td>5.0</td>\n",
              "      <td>['rhea Birthday']</td>\n",
              "    </tr>\n",
              "    <tr>\n",
              "      <th>17692.0</th>\n",
              "      <td>60908.0</td>\n",
              "      <td>2008.0</td>\n",
              "      <td>6.0</td>\n",
              "      <td>9.0</td>\n",
              "      <td>2.0</td>\n",
              "      <td>['meet mom and dad']</td>\n",
              "    </tr>\n",
              "    <tr>\n",
              "      <th>22805.0</th>\n",
              "      <td>60922.0</td>\n",
              "      <td>2022.0</td>\n",
              "      <td>6.0</td>\n",
              "      <td>9.0</td>\n",
              "      <td>5.0</td>\n",
              "      <td>['johny Meeting']</td>\n",
              "    </tr>\n",
              "    <tr>\n",
              "      <th>...</th>\n",
              "      <th>...</th>\n",
              "      <td>...</td>\n",
              "      <td>...</td>\n",
              "      <td>...</td>\n",
              "      <td>...</td>\n",
              "      <td>...</td>\n",
              "      <td>...</td>\n",
              "    </tr>\n",
              "    <tr>\n",
              "      <th rowspan=\"5\" valign=\"top\">user_100000</th>\n",
              "      <th>18849.0</th>\n",
              "      <td>81011.0</td>\n",
              "      <td>2011.0</td>\n",
              "      <td>8.0</td>\n",
              "      <td>10.0</td>\n",
              "      <td>4.0</td>\n",
              "      <td>['johny meeting']</td>\n",
              "    </tr>\n",
              "    <tr>\n",
              "      <th>16576.0</th>\n",
              "      <td>52005.0</td>\n",
              "      <td>2005.0</td>\n",
              "      <td>5.0</td>\n",
              "      <td>20.0</td>\n",
              "      <td>6.0</td>\n",
              "      <td>['wedding anniversary pappa']</td>\n",
              "    </tr>\n",
              "    <tr>\n",
              "      <th>21401.0</th>\n",
              "      <td>80518.0</td>\n",
              "      <td>2018.0</td>\n",
              "      <td>8.0</td>\n",
              "      <td>5.0</td>\n",
              "      <td>1.0</td>\n",
              "      <td>['meeting john']</td>\n",
              "    </tr>\n",
              "    <tr>\n",
              "      <th>19277.0</th>\n",
              "      <td>101112.0</td>\n",
              "      <td>2012.0</td>\n",
              "      <td>10.0</td>\n",
              "      <td>11.0</td>\n",
              "      <td>5.0</td>\n",
              "      <td>['pola']</td>\n",
              "    </tr>\n",
              "    <tr>\n",
              "      <th>15852.0</th>\n",
              "      <td>52703.0</td>\n",
              "      <td>2003.0</td>\n",
              "      <td>5.0</td>\n",
              "      <td>27.0</td>\n",
              "      <td>3.0</td>\n",
              "      <td>['ShivaJayanti']</td>\n",
              "    </tr>\n",
              "  </tbody>\n",
              "</table>\n",
              "<p>1199300 rows × 6 columns</p>\n",
              "</div>\n",
              "      <button class=\"colab-df-convert\" onclick=\"convertToInteractive('df-8c3c3d79-cfe3-44fb-be15-b4428eaead4e')\"\n",
              "              title=\"Convert this dataframe to an interactive table.\"\n",
              "              style=\"display:none;\">\n",
              "        \n",
              "  <svg xmlns=\"http://www.w3.org/2000/svg\" height=\"24px\"viewBox=\"0 0 24 24\"\n",
              "       width=\"24px\">\n",
              "    <path d=\"M0 0h24v24H0V0z\" fill=\"none\"/>\n",
              "    <path d=\"M18.56 5.44l.94 2.06.94-2.06 2.06-.94-2.06-.94-.94-2.06-.94 2.06-2.06.94zm-11 1L8.5 8.5l.94-2.06 2.06-.94-2.06-.94L8.5 2.5l-.94 2.06-2.06.94zm10 10l.94 2.06.94-2.06 2.06-.94-2.06-.94-.94-2.06-.94 2.06-2.06.94z\"/><path d=\"M17.41 7.96l-1.37-1.37c-.4-.4-.92-.59-1.43-.59-.52 0-1.04.2-1.43.59L10.3 9.45l-7.72 7.72c-.78.78-.78 2.05 0 2.83L4 21.41c.39.39.9.59 1.41.59.51 0 1.02-.2 1.41-.59l7.78-7.78 2.81-2.81c.8-.78.8-2.07 0-2.86zM5.41 20L4 18.59l7.72-7.72 1.47 1.35L5.41 20z\"/>\n",
              "  </svg>\n",
              "      </button>\n",
              "      \n",
              "  <style>\n",
              "    .colab-df-container {\n",
              "      display:flex;\n",
              "      flex-wrap:wrap;\n",
              "      gap: 12px;\n",
              "    }\n",
              "\n",
              "    .colab-df-convert {\n",
              "      background-color: #E8F0FE;\n",
              "      border: none;\n",
              "      border-radius: 50%;\n",
              "      cursor: pointer;\n",
              "      display: none;\n",
              "      fill: #1967D2;\n",
              "      height: 32px;\n",
              "      padding: 0 0 0 0;\n",
              "      width: 32px;\n",
              "    }\n",
              "\n",
              "    .colab-df-convert:hover {\n",
              "      background-color: #E2EBFA;\n",
              "      box-shadow: 0px 1px 2px rgba(60, 64, 67, 0.3), 0px 1px 3px 1px rgba(60, 64, 67, 0.15);\n",
              "      fill: #174EA6;\n",
              "    }\n",
              "\n",
              "    [theme=dark] .colab-df-convert {\n",
              "      background-color: #3B4455;\n",
              "      fill: #D2E3FC;\n",
              "    }\n",
              "\n",
              "    [theme=dark] .colab-df-convert:hover {\n",
              "      background-color: #434B5C;\n",
              "      box-shadow: 0px 1px 3px 1px rgba(0, 0, 0, 0.15);\n",
              "      filter: drop-shadow(0px 1px 2px rgba(0, 0, 0, 0.3));\n",
              "      fill: #FFFFFF;\n",
              "    }\n",
              "  </style>\n",
              "\n",
              "      <script>\n",
              "        const buttonEl =\n",
              "          document.querySelector('#df-8c3c3d79-cfe3-44fb-be15-b4428eaead4e button.colab-df-convert');\n",
              "        buttonEl.style.display =\n",
              "          google.colab.kernel.accessAllowed ? 'block' : 'none';\n",
              "\n",
              "        async function convertToInteractive(key) {\n",
              "          const element = document.querySelector('#df-8c3c3d79-cfe3-44fb-be15-b4428eaead4e');\n",
              "          const dataTable =\n",
              "            await google.colab.kernel.invokeFunction('convertToInteractive',\n",
              "                                                     [key], {});\n",
              "          if (!dataTable) return;\n",
              "\n",
              "          const docLinkHtml = 'Like what you see? Visit the ' +\n",
              "            '<a target=\"_blank\" href=https://colab.research.google.com/notebooks/data_table.ipynb>data table notebook</a>'\n",
              "            + ' to learn more about interactive tables.';\n",
              "          element.innerHTML = '';\n",
              "          dataTable['output_type'] = 'display_data';\n",
              "          await google.colab.output.renderOutput(dataTable, element);\n",
              "          const docLink = document.createElement('div');\n",
              "          docLink.innerHTML = docLinkHtml;\n",
              "          element.appendChild(docLink);\n",
              "        }\n",
              "      </script>\n",
              "    </div>\n",
              "  </div>\n",
              "  "
            ],
            "text/plain": [
              "                      datekey    year  month   day  weekday_num  \\\n",
              "user        sasdate                                               \n",
              "user_1      22497.0   80521.0  2021.0    8.0   5.0          5.0   \n",
              "            16109.0   20804.0  2004.0    2.0   8.0          1.0   \n",
              "            17968.0   31209.0  2009.0    3.0  12.0          5.0   \n",
              "            17692.0   60908.0  2008.0    6.0   9.0          2.0   \n",
              "            22805.0   60922.0  2022.0    6.0   9.0          5.0   \n",
              "...                       ...     ...    ...   ...          ...   \n",
              "user_100000 18849.0   81011.0  2011.0    8.0  10.0          4.0   \n",
              "            16576.0   52005.0  2005.0    5.0  20.0          6.0   \n",
              "            21401.0   80518.0  2018.0    8.0   5.0          1.0   \n",
              "            19277.0  101112.0  2012.0   10.0  11.0          5.0   \n",
              "            15852.0   52703.0  2003.0    5.0  27.0          3.0   \n",
              "\n",
              "                                             event  \n",
              "user        sasdate                                 \n",
              "user_1      22497.0                  ['tim event']  \n",
              "            16109.0        ['Joey birthday party']  \n",
              "            17968.0              ['rhea Birthday']  \n",
              "            17692.0           ['meet mom and dad']  \n",
              "            22805.0              ['johny Meeting']  \n",
              "...                                            ...  \n",
              "user_100000 18849.0              ['johny meeting']  \n",
              "            16576.0  ['wedding anniversary pappa']  \n",
              "            21401.0               ['meeting john']  \n",
              "            19277.0                       ['pola']  \n",
              "            15852.0               ['ShivaJayanti']  \n",
              "\n",
              "[1199300 rows x 6 columns]"
            ]
          },
          "execution_count": 117,
          "metadata": {},
          "output_type": "execute_result"
        }
      ],
      "source": [
        "read_json_df"
      ]
    }
  ],
  "metadata": {
    "accelerator": "GPU",
    "colab": {
      "provenance": []
    },
    "gpuClass": "standard",
    "kernelspec": {
      "display_name": "Python 3",
      "name": "python3"
    },
    "language_info": {
      "name": "python"
    }
  },
  "nbformat": 4,
  "nbformat_minor": 0
}
